{
 "cells": [
  {
   "cell_type": "code",
   "execution_count": 1,
   "metadata": {
    "collapsed": false
   },
   "outputs": [
    {
     "name": "stdout",
     "output_type": "stream",
     "text": [
      "Populating the interactive namespace from numpy and matplotlib\n"
     ]
    }
   ],
   "source": [
    "%pylab inline\n",
    "import orbit_cm\n",
    "import particles\n",
    "import truncate\n",
    "from pygadgetreader import readsnap"
   ]
  },
  {
   "cell_type": "code",
   "execution_count": 2,
   "metadata": {
    "collapsed": true
   },
   "outputs": [],
   "source": [
    "MWLMC_pos = readsnap('../../LMC-MW/data/LMCMW/MWmLMC6/H1/MWfLMC6H1_000.hdf5', 'pos', 'dm')  \n",
    "MWLMC_vel = readsnap('../../LMC-MW/data/LMCMW/MWmLMC6/H1/MWfLMC6H1_000.hdf5', 'vel', 'dm')\n",
    "MWLMC_pot = readsnap('../../LMC-MW/data/LMCMW/MWmLMC6/H1/MWfLMC6H1_000.hdf5', 'pot', 'dm')\n",
    "MWLMC_ids = readsnap('../../LMC-MW/data/LMCMW/MWmLMC6/H1/MWfLMC6H1_000.hdf5', 'pid', 'dm')\n",
    "MWLMC_M = readsnap('../../LMC-MW/data/LMCMW/MWmLMC6/H1/MWfLMC6H1_000.hdf5', 'mass', 'dm')  \n",
    "\n",
    "MWLMCHR_pos = readsnap('../../LMC-MW/data/LMCMW/UHR/MWLMC6UHR_000.hdf5', 'pos', 'dm')  \n",
    "MWLMCHR_vel = readsnap('../../LMC-MW/data/LMCMW/UHR/MWLMC6UHR_000.hdf5', 'vel', 'dm')\n",
    "MWLMCHR_pot = readsnap('../../LMC-MW/data/LMCMW/UHR/MWLMC6UHR_000.hdf5', 'pot', 'dm')\n",
    "MWLMCHR_ids = readsnap('../../LMC-MW/data/LMCMW/UHR/MWLMC6UHR_000.hdf5', 'pid', 'dm')"
   ]
  },
  {
   "cell_type": "code",
   "execution_count": 3,
   "metadata": {
    "collapsed": false
   },
   "outputs": [],
   "source": [
    "# Selecting MW and LMC particles\n",
    "MW_pos, MW_vel, LMC_pos, LMC_vel = particles.host_sat_particles(MWLMC_pos, MWLMC_vel, MWLMC_ids, 1000000)\n",
    "MW_posHR, MW_velHR, LMC_posHR, LMC_velHR = particles.host_sat_particles(MWLMCHR_pos, MWLMCHR_vel, MWLMCHR_ids, 30000000)\n"
   ]
  },
  {
   "cell_type": "code",
   "execution_count": 4,
   "metadata": {
    "collapsed": false
   },
   "outputs": [],
   "source": [
    "# Truncating the halos at 500 kpc\n",
    "MW_pos_t, MW_vel_t = truncate.truncate(MW_pos, MW_vel, 500)\n",
    "MW_posHR_t, MW_velHR_t = truncate.truncate(MW_posHR, MW_velHR, 500)\n"
   ]
  },
  {
   "cell_type": "code",
   "execution_count": 5,
   "metadata": {
    "collapsed": false
   },
   "outputs": [
    {
     "name": "stdout",
     "output_type": "stream",
     "text": [
      "[-0.02000348 -0.03536833 -0.01736329]\n"
     ]
    }
   ],
   "source": [
    "# Computing COM of LR sim at t=0\n",
    "RCM, VCM = orbit_cm.shrinking_sphere(MW_pos_t, MW_vel_t)\n",
    "print(RCM)\n"
   ]
  },
  {
   "cell_type": "code",
   "execution_count": 42,
   "metadata": {
    "collapsed": false
   },
   "outputs": [
    {
     "name": "stdout",
     "output_type": "stream",
     "text": [
      "[ 0.01257442 -0.00553338 -0.00730978]\n"
     ]
    }
   ],
   "source": [
    "# Computing COM of HR sim at t=0\n",
    "RCMHR, VCMHR = orbit_cm.shrinking_sphere(MW_posHR_t, MW_velHR_t)\n",
    "print(RCMHR)\n"
   ]
  },
  {
   "cell_type": "code",
   "execution_count": 43,
   "metadata": {
    "collapsed": false
   },
   "outputs": [],
   "source": [
    "# Effect of the convergence criteria and the resolution on the COM computation\n",
    "deltas = np.linspace(0.025, 10., 10)\n",
    "rcm = np.zeros(len(deltas))\n",
    "rcmhr = np.zeros(len(deltas))\n",
    "\n",
    "for i in range(len(deltas)):\n",
    "    RCM, VCM = orbit_cm.shrinking_sphere(MW_pos_t, MW_vel_t, delta=deltas[i])\n",
    "    RCMHR, VCMHR = orbit_cm.shrinking_sphere(MW_posHR_t, MW_velHR_t, delta=deltas[i])\n",
    "    rcm[i] = np.sqrt(sum(RCM**2.0))\n",
    "    rcmhr[i] = np.sqrt(sum(RCMHR**2.0))\n",
    "    #print(i)\n"
   ]
  },
  {
   "cell_type": "code",
   "execution_count": 44,
   "metadata": {
    "collapsed": false
   },
   "outputs": [
    {
     "data": {
      "text/plain": [
       "<matplotlib.text.Text at 0x7f8c82019ac8>"
      ]
     },
     "execution_count": 44,
     "metadata": {},
     "output_type": "execute_result"
    },
    {
     "data": {
      "image/png": "[encoded data removed]",
      "text/plain": [
       "<matplotlib.figure.Figure at 0x7f8c81fedba8>"
      ]
     },
     "metadata": {},
     "output_type": "display_data"
    }
   ],
   "source": [
    "plot(deltas, rcm, lw=1.5)\n",
    "plot(deltas, rcmhr, lw=1.5)\n",
    "xlabel(r'$\\delta$', fontsize=25)\n",
    "ylabel('$r_{CM}$', fontsize=25)"
   ]
  },
  {
   "cell_type": "code",
   "execution_count": 20,
   "metadata": {
    "collapsed": false
   },
   "outputs": [
    {
     "name": "stdout",
     "output_type": "stream",
     "text": [
      "CPU times: user 14min 32s, sys: 3.9 s, total: 14min 36s\n",
      "Wall time: 15min 13s\n"
     ]
    }
   ],
   "source": [
    "%time MW_CM_pos, MW_CM_vel, LMC_CM_pos, LMC_CM_vel = orbit_cm.orbit_CM('../../LMC-MW/data/LMCMW/MWmLMC6/H1/', 'MWfLMC6H1', 0, 120, 1000000, lmc=True )"
   ]
  },
  {
   "cell_type": "code",
   "execution_count": 9,
   "metadata": {
    "collapsed": false
   },
   "outputs": [
    {
     "name": "stdout",
     "output_type": "stream",
     "text": [
      "CPU times: user 4min 2s, sys: 9.15 s, total: 4min 11s\n",
      "Wall time: 5min 19s\n"
     ]
    }
   ],
   "source": [
    "%time MW_CM_posHR21, MW_CM_velHR21, LMC_CM_posHR21, LMC_CM_velHR21 = orbit_cm.orbit_CM('../../LMC-MW/data/LMCMW/UHR/', '/MWLMC6UHR', 21, 21, 30000000, lmc=True )"
   ]
  },
  {
   "cell_type": "code",
   "execution_count": 10,
   "metadata": {
    "collapsed": false
   },
   "outputs": [
    {
     "name": "stdout",
     "output_type": "stream",
     "text": [
      "CPU times: user 3min 33s, sys: 3.22 s, total: 3min 37s\n",
      "Wall time: 3min 50s\n"
     ]
    }
   ],
   "source": [
    "%time MW_CM_posHR14, MW_CM_velHR14, LMC_CM_posHR14, LMC_CM_velHR14 = orbit_cm.orbit_CM('../../LMC-MW/data/LMCMW/UHR/', '/MWLMC6UHR', 14, 14, 30000000, lmc=True )"
   ]
  },
  {
   "cell_type": "code",
   "execution_count": 12,
   "metadata": {
    "collapsed": false
   },
   "outputs": [
    {
     "name": "stdout",
     "output_type": "stream",
     "text": [
      "CPU times: user 3min 25s, sys: 3.22 s, total: 3min 28s\n",
      "Wall time: 3min 43s\n"
     ]
    }
   ],
   "source": [
    "%time MW_CM_posHR7, MW_CM_velHR7, LMC_CM_posHR7, LMC_CM_velHR7 = orbit_cm.orbit_CM('../../LMC-MW/data/LMCMW/UHR/', '/MWLMC6UHR', 7, 7, 30000000, lmc=True )"
   ]
  },
  {
   "cell_type": "code",
   "execution_count": 13,
   "metadata": {
    "collapsed": false
   },
   "outputs": [
    {
     "name": "stdout",
     "output_type": "stream",
     "text": [
      "[[-0.43495186  3.30087987  0.49568202]]\n",
      "[[ -0.52771955  14.15151372   2.11633625]]\n",
      "[[  1.42619193  37.59707205  -1.18049639]]\n"
     ]
    }
   ],
   "source": [
    "print(MW_CM_posHR7)\n",
    "print(MW_CM_posHR14)\n",
    "print(MW_CM_posHR21)"
   ]
  },
  {
   "cell_type": "code",
   "execution_count": 22,
   "metadata": {
    "collapsed": true
   },
   "outputs": [],
   "source": [
    "lmc_orbit = np.loadtxt('../../LMC-MW/code/LMC_orbit/orbits/LMC6_H1.txt')\n"
   ]
  },
  {
   "cell_type": "code",
   "execution_count": 23,
   "metadata": {
    "collapsed": false
   },
   "outputs": [
    {
     "data": {
      "text/plain": [
       "[<matplotlib.lines.Line2D at 0x7f8c828cb198>]"
      ]
     },
     "execution_count": 23,
     "metadata": {},
     "output_type": "execute_result"
    },
    {
     "data": {
      "image/png": "[encoded data removed]",
      "text/plain": [
       "<matplotlib.figure.Figure at 0x7f8c828cb208>"
      ]
     },
     "metadata": {},
     "output_type": "display_data"
    }
   ],
   "source": [
    "plot(np.sqrt(MW_CM_pos[:,0]**2.0+MW_CM_pos[:,1]**2.0+MW_CM_pos[:,2]**2.0))\n",
    "plot(np.sqrt(lmc_orbit[:,5]**2.0+lmc_orbit[:,6]**2.0+lmc_orbit[:,7]**2.0))"
   ]
  }
 ],
 "metadata": {
  "kernelspec": {
   "display_name": "Python 3",
   "language": "python",
   "name": "python3"
  },
  "language_info": {
   "codemirror_mode": {
    "name": "ipython",
    "version": 3
   },
   "file_extension": ".py",
   "mimetype": "text/x-python",
   "name": "python",
   "nbconvert_exporter": "python",
   "pygments_lexer": "ipython3",
   "version": "3.4.3"
  }
 },
 "nbformat": 4,
 "nbformat_minor": 0
}
